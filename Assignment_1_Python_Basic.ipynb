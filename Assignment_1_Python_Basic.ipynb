{
 "cells": [
  {
   "cell_type": "code",
   "execution_count": 3,
   "id": "214c1d32",
   "metadata": {},
   "outputs": [],
   "source": [
    "# 1. Write a Python program to print &quot;Hello Python&quot;?\n",
    "# 2. Write a Python program to do arithmetical operations addition and division.?\n",
    "# 3. Write a Python program to find the area of a triangle?\n",
    "# 4. Write a Python program to swap two variables?\n",
    "# 5. Write a Python program to generate a random number?"
   ]
  },
  {
   "cell_type": "code",
   "execution_count": 2,
   "id": "9d674c2e",
   "metadata": {},
   "outputs": [
    {
     "name": "stdout",
     "output_type": "stream",
     "text": [
      "Hello Python\n"
     ]
    }
   ],
   "source": [
    "#Write a Python program to print \"Hello Python\"?\n",
    "print(\"Hello Python\")"
   ]
  },
  {
   "cell_type": "code",
   "execution_count": 2,
   "id": "8420f38a",
   "metadata": {},
   "outputs": [
    {
     "name": "stdout",
     "output_type": "stream",
     "text": [
      "Enter first number: 2\n",
      "Enter second number: 3\n",
      "Sum of two numbers :  5.0\n",
      "Division of two numbers :  0.6666666666666666\n"
     ]
    }
   ],
   "source": [
    "#Write a Python program to do arithmetical operations addition and division.?\n",
    "num1 = input('Enter first number: ')  \n",
    "num2 = input('Enter second number: ')  \n",
    "sum = float(num1) + float(num2)  \n",
    "div = float(num1) / float(num2)  \n",
    "print(\"Sum of two numbers : \", sum)\n",
    "print(\"Division of two numbers : \", div)\n"
   ]
  },
  {
   "cell_type": "code",
   "execution_count": 5,
   "id": "e5ea9ddf",
   "metadata": {},
   "outputs": [
    {
     "name": "stdout",
     "output_type": "stream",
     "text": [
      "Enter first side: 5\n",
      "Enter second side: 6\n",
      "Enter third side: 7\n",
      "The area of the triangle is 14.70\n"
     ]
    }
   ],
   "source": [
    "# Write a Python program to find the area of a triangle?\n",
    "a = float(input('Enter first side: '))\n",
    "b = float(input('Enter second side: '))\n",
    "c = float(input('Enter third side: '))\n",
    "\n",
    "s = (a + b + c) / 2\n",
    "\n",
    "area = (s*(s-a)*(s-b)*(s-c)) ** 0.5\n",
    "print('The area of the triangle is %0.2f' %area)"
   ]
  },
  {
   "cell_type": "code",
   "execution_count": 6,
   "id": "9975b131",
   "metadata": {},
   "outputs": [
    {
     "name": "stdout",
     "output_type": "stream",
     "text": [
      "Please enter value for P: 2\n",
      "Please enter value for Q: 3\n",
      "The Value of P after swapping:  3\n",
      "The Value of Q after swapping:  2\n"
     ]
    }
   ],
   "source": [
    "# Write a Python program to swap two variables?\n",
    "P = int( input(\"Please enter value for P: \"))  \n",
    "Q = int( input(\"Please enter value for Q: \"))  \n",
    "     \n",
    "temp_1 = P  \n",
    "P = Q  \n",
    "Q = temp_1  \n",
    "   \n",
    "print (\"The Value of P after swapping: \", P)  \n",
    "print (\"The Value of Q after swapping: \", Q)  "
   ]
  },
  {
   "cell_type": "code",
   "execution_count": 15,
   "id": "7497577a",
   "metadata": {},
   "outputs": [
    {
     "name": "stdout",
     "output_type": "stream",
     "text": [
      "0.20430413607015452\n",
      "0.9380219696844883\n",
      "0.7688888692065589\n",
      "0.1410708953995422\n",
      "0.5721756332955726\n",
      "0.14291175049618798\n",
      "0.24719362663169775\n",
      "0.7797413635937038\n",
      "0.8636931298464653\n"
     ]
    }
   ],
   "source": [
    "# Write a Python program to generate a random number?\n",
    "import random\n",
    "for i in range(1,10):\n",
    "    n = random.random()  \n",
    "    print(n)  "
   ]
  },
  {
   "cell_type": "code",
   "execution_count": null,
   "id": "bb256f74",
   "metadata": {},
   "outputs": [],
   "source": []
  },
  {
   "cell_type": "code",
   "execution_count": null,
   "id": "7a930a1a",
   "metadata": {},
   "outputs": [],
   "source": []
  }
 ],
 "metadata": {
  "kernelspec": {
   "display_name": "Python 3 (ipykernel)",
   "language": "python",
   "name": "python3"
  },
  "language_info": {
   "codemirror_mode": {
    "name": "ipython",
    "version": 3
   },
   "file_extension": ".py",
   "mimetype": "text/x-python",
   "name": "python",
   "nbconvert_exporter": "python",
   "pygments_lexer": "ipython3",
   "version": "3.9.7"
  }
 },
 "nbformat": 4,
 "nbformat_minor": 5
}
